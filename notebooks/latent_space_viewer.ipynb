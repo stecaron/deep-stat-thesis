{
 "cells": [
  {
   "cell_type": "code",
   "execution_count": 1,
   "metadata": {},
   "outputs": [],
   "source": [
    "import torch\n",
    "import sys\n",
    "import numpy\n",
    "import matplotlib.pyplot as plt\n",
    "import ipywidgets as widgets\n",
    "\n",
    "from ipywidgets.widgets.interaction import show_inline_matplotlib_plots\n",
    "\n",
    "from scipy.stats import multivariate_normal\n",
    "\n",
    "sys.path.append('../')\n",
    "\n",
    "from src.cars.model import SmallCarsConvVAE128"
   ]
  },
  {
   "cell_type": "code",
   "execution_count": 2,
   "metadata": {},
   "outputs": [],
   "source": [
    "# Set some hyperparameters\n",
    "LATENT_DIM = 50\n",
    "MODEL_NAME = \"../vae_model_cars.h5\"\n",
    "NB_SIM = 9\n",
    "\n",
    "MU = numpy.repeat(0, LATENT_DIM)\n",
    "SIGMA = numpy.diag(numpy.repeat(1, LATENT_DIM))"
   ]
  },
  {
   "cell_type": "markdown",
   "metadata": {},
   "source": [
    "Let's import the model"
   ]
  },
  {
   "cell_type": "code",
   "execution_count": 3,
   "metadata": {},
   "outputs": [
    {
     "data": {
      "text/plain": [
       "<All keys matched successfully>"
      ]
     },
     "execution_count": 3,
     "metadata": {},
     "output_type": "execute_result"
    }
   ],
   "source": [
    "model = SmallCarsConvVAE128(LATENT_DIM)\n",
    "model.load_state_dict(torch.load(MODEL_NAME))"
   ]
  },
  {
   "cell_type": "code",
   "execution_count": 11,
   "metadata": {},
   "outputs": [],
   "source": [
    "simulations = numpy.random.multivariate_normal(MU, SIGMA, NB_SIM)\n",
    "simulations = torch.from_numpy(simulations).float()"
   ]
  },
  {
   "cell_type": "code",
   "execution_count": 12,
   "metadata": {},
   "outputs": [],
   "source": [
    "def plot_examples(dt_decoded):\n",
    "\n",
    "    fig, axs = plt.subplots(3, 3)\n",
    "    fig.tight_layout()\n",
    "    axs = axs.ravel()\n",
    "\n",
    "    for i in range(9):\n",
    "        image = dt_decoded[i].transpose_(0,2).detach().numpy()\n",
    "        axs[i].imshow(image)\n",
    "        axs[i].axis('off')\n",
    "\n",
    "    fig"
   ]
  },
  {
   "cell_type": "code",
   "execution_count": 14,
   "metadata": {},
   "outputs": [
    {
     "data": {
      "application/vnd.jupyter.widget-view+json": {
       "model_id": "46889231e4804b2f81118c6e5d898594",
       "version_major": 2,
       "version_minor": 0
      },
      "text/plain": [
       "Dropdown(options=(0, 1, 2, 3, 4, 5, 6, 7, 8, 9, 10, 11, 12, 13, 14, 15, 16, 17, 18, 19, 20, 21, 22, 23, 24, 25…"
      ]
     },
     "metadata": {},
     "output_type": "display_data"
    },
    {
     "data": {
      "application/vnd.jupyter.widget-view+json": {
       "model_id": "1c8ca78094f4460694b715631fb80b8d",
       "version_major": 2,
       "version_minor": 0
      },
      "text/plain": [
       "FloatSlider(value=0.0, max=5.0, min=-5.0)"
      ]
     },
     "metadata": {},
     "output_type": "display_data"
    },
    {
     "data": {
      "application/vnd.jupyter.widget-view+json": {
       "model_id": "bac3650055b0495fbac6a90e9b3cdfb5",
       "version_major": 2,
       "version_minor": 0
      },
      "text/plain": [
       "Output()"
      ]
     },
     "metadata": {},
     "output_type": "display_data"
    }
   ],
   "source": [
    "dropdown_choices = numpy.arange(0, LATENT_DIM, 1)\n",
    "\n",
    "latent_dropdown = widgets.Dropdown(options = dropdown_choices)\n",
    "latent_slider = widgets.FloatSlider(value=0, min=-5, max=5, step=0.1)\n",
    "\n",
    "output = widgets.Output()\n",
    "\n",
    "def change_noise(dim, noise):\n",
    "    output.clear_output()\n",
    "    \n",
    "    new_simulations = simulations(*simulations.size())\n",
    "    new_simulations[:,dim] = simulations[:,dim] + torch.FloatTensor(numpy.repeat(noise, simulations.shape[0]))\n",
    "    decoded_simulations = model.decode(new_simulations)\n",
    "    fig = plot_examples(decoded_simulations)\n",
    "    \n",
    "    with output:\n",
    "        show_inline_matplotlib_plots()\n",
    "        \n",
    "def latent_dropdown_eventhandler(change):\n",
    "    change_noise(change.new, latent_slider.value)\n",
    "\n",
    "def latent_slider_eventhandler(change):\n",
    "    change_noise(latent_dropdown.value, change.new)\n",
    "\n",
    "latent_dropdown.observe(latent_dropdown_eventhandler, names='value')\n",
    "latent_slider.observe(latent_slider_eventhandler, names='value')\n",
    "\n",
    "display(latent_dropdown)\n",
    "display(latent_slider)\n",
    "display(output)"
   ]
  }
 ],
 "metadata": {
  "kernelspec": {
   "display_name": "SemSeg",
   "language": "python",
   "name": "semseg"
  },
  "language_info": {
   "codemirror_mode": {
    "name": "ipython",
    "version": 3
   },
   "file_extension": ".py",
   "mimetype": "text/x-python",
   "name": "python",
   "nbconvert_exporter": "python",
   "pygments_lexer": "ipython3",
   "version": "3.7.6"
  }
 },
 "nbformat": 4,
 "nbformat_minor": 4
}
