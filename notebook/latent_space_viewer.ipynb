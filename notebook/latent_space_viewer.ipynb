{
 "cells": [
  {
   "cell_type": "code",
   "execution_count": 99,
   "metadata": {},
   "outputs": [],
   "source": [
    "import torch\n",
    "import sys\n",
    "import numpy\n",
    "import matplotlib.pyplot as plt\n",
    "import ipywidgets as widgets\n",
    "\n",
    "from ipywidgets.widgets.interaction import show_inline_matplotlib_plots\n",
    "\n",
    "from scipy.stats import multivariate_normal\n",
    "\n",
    "sys.path.append('../')\n",
    "\n",
    "from src.cars.model import CarsConvVAE"
   ]
  },
  {
   "cell_type": "code",
   "execution_count": 21,
   "metadata": {},
   "outputs": [],
   "source": [
    "# Set some hyperparameters\n",
    "LATENT_DIM = 5\n",
    "MODEL_NAME = \"../vae_model_cars_gpu.h5\"\n",
    "NB_SIM = 9\n",
    "\n",
    "MU = numpy.repeat(0, LATENT_DIM)\n",
    "SIGMA = numpy.diag(numpy.repeat(1, LATENT_DIM))"
   ]
  },
  {
   "cell_type": "markdown",
   "metadata": {},
   "source": [
    "Let's import the model"
   ]
  },
  {
   "cell_type": "code",
   "execution_count": 18,
   "metadata": {},
   "outputs": [
    {
     "data": {
      "text/plain": [
       "<All keys matched successfully>"
      ]
     },
     "execution_count": 18,
     "metadata": {},
     "output_type": "execute_result"
    }
   ],
   "source": [
    "model = CarsConvVAE(LATENT_DIM)\n",
    "model.load_state_dict(torch.load(MODEL_NAME))"
   ]
  },
  {
   "cell_type": "code",
   "execution_count": 79,
   "metadata": {},
   "outputs": [
    {
     "data": {
      "text/plain": [
       "torch.Size([9, 3, 224, 224])"
      ]
     },
     "execution_count": 79,
     "metadata": {},
     "output_type": "execute_result"
    }
   ],
   "source": [
    "simulations = numpy.random.multivariate_normal(MU, SIGMA, NB_SIM)\n",
    "simulations = torch.FloatTensor(simulations)"
   ]
  },
  {
   "cell_type": "code",
   "execution_count": 81,
   "metadata": {},
   "outputs": [],
   "source": [
    "def plot_examples(dt_decoded):\n",
    "\n",
    "    fig, axs = plt.subplots(3, 3)\n",
    "    fig.tight_layout()\n",
    "    axs = axs.ravel()\n",
    "\n",
    "    for i in range(9):\n",
    "        image = dt_decoded[i].transpose_(0,2).detach().numpy()\n",
    "        axs[i].imshow(image)\n",
    "        axs[i].axis('off')\n",
    "\n",
    "    fig"
   ]
  },
  {
   "cell_type": "code",
   "execution_count": 100,
   "metadata": {},
   "outputs": [
    {
     "data": {
      "application/vnd.jupyter.widget-view+json": {
       "model_id": "d76972dfd72347bbbc4dbe9f365078b2",
       "version_major": 2,
       "version_minor": 0
      },
      "text/plain": [
       "Dropdown(options=(0, 1, 2, 3, 4), value=0)"
      ]
     },
     "metadata": {},
     "output_type": "display_data"
    },
    {
     "data": {
      "application/vnd.jupyter.widget-view+json": {
       "model_id": "c7d2b8efc65141788f6bde6a1f7112e0",
       "version_major": 2,
       "version_minor": 0
      },
      "text/plain": [
       "FloatSlider(value=0.0, max=5.0, min=-5.0)"
      ]
     },
     "metadata": {},
     "output_type": "display_data"
    },
    {
     "data": {
      "application/vnd.jupyter.widget-view+json": {
       "model_id": "437e2607e34c4d80945890d091fe8140",
       "version_major": 2,
       "version_minor": 0
      },
      "text/plain": [
       "Output()"
      ]
     },
     "metadata": {},
     "output_type": "display_data"
    }
   ],
   "source": [
    "dropdown_choices = numpy.arange(0, LATENT_DIM, 1)\n",
    "\n",
    "latent_dropdown = widgets.Dropdown(options = dropdown_choices)\n",
    "latent_slider = widgets.FloatSlider(value=0, min=-5, max=5, step=0.1)\n",
    "\n",
    "output = widgets.Output()\n",
    "\n",
    "def change_noise(dim, noise):\n",
    "    output.clear_output()\n",
    "    \n",
    "    new_simulations = simulations.new(*simulations.size())\n",
    "    new_simulations[:,dim] = simulations[:,dim] + torch.FloatTensor(numpy.repeat(noise, simulations.shape[0]))\n",
    "    decoded_simulations = model.decode(new_simulations)\n",
    "    fig = plot_examples(decoded_simulations)\n",
    "    \n",
    "    with output:\n",
    "        show_inline_matplotlib_plots()\n",
    "        \n",
    "def latent_dropdown_eventhandler(change):\n",
    "    change_noise(change.new, latent_slider.value)\n",
    "\n",
    "def latent_slider_eventhandler(change):\n",
    "    change_noise(latent_dropdown.value, change.new)\n",
    "\n",
    "latent_dropdown.observe(latent_dropdown_eventhandler, names='value')\n",
    "latent_slider.observe(latent_slider_eventhandler, names='value')\n",
    "\n",
    "display(latent_dropdown)\n",
    "display(latent_slider)\n",
    "display(output)"
   ]
  }
 ],
 "metadata": {
  "kernelspec": {
   "display_name": "Python (memoire)",
   "language": "python",
   "name": "memoire"
  },
  "language_info": {
   "codemirror_mode": {
    "name": "ipython",
    "version": 3
   },
   "file_extension": ".py",
   "mimetype": "text/x-python",
   "name": "python",
   "nbconvert_exporter": "python",
   "pygments_lexer": "ipython3",
   "version": "3.7.5"
  }
 },
 "nbformat": 4,
 "nbformat_minor": 4
}
